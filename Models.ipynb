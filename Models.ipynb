{
 "cells": [
  {
   "cell_type": "markdown",
   "metadata": {},
   "source": [
    "Credit on some of this goes to: https://www.kaggle.com/sudalairajkumar/simple-exploration-baseline-ga-customer-revenue"
   ]
  },
  {
   "cell_type": "code",
   "execution_count": 1,
   "metadata": {},
   "outputs": [],
   "source": [
    "import os\n",
    "import json\n",
    "import numpy as np\n",
    "import pandas as pd\n",
    "from pandas.io.json import json_normalize\n",
    "import matplotlib.pyplot as plt\n",
    "import seaborn as sns\n",
    "color = sns.color_palette()\n",
    "import datetime\n",
    "\n",
    "%matplotlib inline\n",
    "\n",
    "from sklearn import model_selection, preprocessing, metrics\n",
    "import lightgbm as lgb"
   ]
  },
  {
   "cell_type": "code",
   "execution_count": 2,
   "metadata": {},
   "outputs": [
    {
     "name": "stderr",
     "output_type": "stream",
     "text": [
      "c:\\users\\steve\\.virtualenvs\\gstore-okygrqzl\\lib\\site-packages\\IPython\\core\\interactiveshell.py:3020: DtypeWarning: Columns (2) have mixed types. Specify dtype option on import or set low_memory=False.\n",
      "  interactivity=interactivity, compiler=compiler, result=result)\n"
     ]
    }
   ],
   "source": [
    "train_frame = pd.read_csv(\"./input/train_flat_pre.csv\")\n",
    "test_frame = pd.read_csv(\"./input/test_flat_pre.csv\")"
   ]
  },
  {
   "cell_type": "code",
   "execution_count": 3,
   "metadata": {},
   "outputs": [],
   "source": [
    "train_frame.fillna(0, inplace=True)\n",
    "test_frame.fillna(0, inplace=True)\n",
    "train_y = train_frame[\"totals.transactionRevenue\"].values\n",
    "train_id = train_frame[\"fullVisitorId\"].values\n",
    "test_id = test_frame[\"fullVisitorId\"].values\n",
    "\n",
    "cat_feats = [\"channelGrouping\", \"device.browser\", \"device.deviceCategory\", \"device.operatingSystem\", \n",
    "             \"geoNetwork.city\", \"geoNetwork.continent\", \"geoNetwork.country\", \"geoNetwork.metro\",\n",
    "             \"geoNetwork.networkDomain\", \"geoNetwork.region\", \"geoNetwork.subContinent\", \"trafficSource.adContent\", \n",
    "             \"trafficSource.adwordsClickInfo.adNetworkType\", \"trafficSource.adwordsClickInfo.gclId\", \n",
    "             \"trafficSource.adwordsClickInfo.page\", \"trafficSource.adwordsClickInfo.slot\", \"trafficSource.campaign\",\n",
    "             \"trafficSource.keyword\", \"trafficSource.medium\", \"trafficSource.referralPath\", \n",
    "             \"trafficSource.source\", 'trafficSource.adwordsClickInfo.isVideoAd', 'trafficSource.isTrueDirect']\n",
    "for feature in cat_feats:\n",
    "    lab_enc = preprocessing.LabelEncoder()\n",
    "    lab_enc.fit(list(train_frame[feature].values.astype('str')) + list(test_frame[feature].values.astype('str')))\n",
    "    train_frame[feature] = lab_enc.transform(list(train_frame[feature].values.astype('str')))\n",
    "    test_frame[feature] = lab_enc.transform(list(test_frame[feature].values.astype('str')))\n",
    "    \n",
    "num_feats_visit = [\"totals.hits\", \"totals.pageviews\", \"visitNumber\", \"visitStartTime\", 'totals.bounces',  'totals.newVisits']    \n",
    "num_feats = [\"totals.hits\", \"totals.pageviews\", \"visitNumber\", 'totals.bounces',  'totals.newVisits']    \n",
    "for feature in num_feats:\n",
    "    train_frame[feature] = train_frame[feature].astype(float)\n",
    "    test_frame[feature] = test_frame[feature].astype(float)\n",
    "    \n",
    "train_frame[\"date\"] = pd.to_datetime(train_frame[\"date\"], format=\"%Y%m%d\")"
   ]
  },
  {
   "cell_type": "code",
   "execution_count": 4,
   "metadata": {},
   "outputs": [],
   "source": [
    "## BALANCE CLASSES\n",
    "#pos_rev = train_frame[train_frame[\"totals.transactionRevenue\"] > 0]\n",
    "#no_rev = train_frame[train_frame[\"totals.transactionRevenue\"] <= 0.00001]\n",
    "#no_rev_sample = no_rev.sample(n=t, replace=False)\n",
    "#train_balanced = pd.concat([pos_rev, no_rev_sample])"
   ]
  },
  {
   "cell_type": "code",
   "execution_count": 5,
   "metadata": {},
   "outputs": [],
   "source": [
    "# We need to split into development and validation sets\n",
    "dev_frame = train_frame[(train_frame['date'] >= '2017-5-1') & (train_frame['date'] <= '2018-4-30')]\n",
    "val_frame = pd.concat([train_frame, dev_frame]).drop_duplicates(keep=False)\n",
    "dev_y = np.log1p(dev_frame[\"totals.transactionRevenue\"].values)\n",
    "val_y = np.log1p(val_frame[\"totals.transactionRevenue\"].values)\n",
    "\n",
    "dev_X = dev_frame[cat_feats + num_feats] \n",
    "dev_X_visit = dev_frame[cat_feats + num_feats_visit] \n",
    "val_X = val_frame[cat_feats + num_feats] \n",
    "val_X_visit = val_frame[cat_feats + num_feats_visit] \n",
    "test_X = test_frame[cat_feats + num_feats]\n",
    "test_X_visit = test_frame[cat_feats + num_feats_visit]"
   ]
  },
  {
   "cell_type": "code",
   "execution_count": 6,
   "metadata": {},
   "outputs": [
    {
     "name": "stdout",
     "output_type": "stream",
     "text": [
      "Training until validation scores don't improve for 200 rounds.\n",
      "[100]\tvalid_0's rmse: 1.62576\n",
      "[200]\tvalid_0's rmse: 1.6192\n",
      "[300]\tvalid_0's rmse: 1.62\n",
      "[400]\tvalid_0's rmse: 1.62186\n",
      "Early stopping, best iteration is:\n",
      "[219]\tvalid_0's rmse: 1.61885\n",
      "Training until validation scores don't improve for 200 rounds.\n",
      "[100]\tvalid_0's rmse: 1.65613\n",
      "[200]\tvalid_0's rmse: 1.70887\n",
      "Early stopping, best iteration is:\n",
      "[72]\tvalid_0's rmse: 1.64626\n"
     ]
    }
   ],
   "source": [
    "# custom function to run light gbm model\n",
    "def run_lgb(train_X, train_y, val_X, val_y, test_X):\n",
    "    params = {\n",
    "        \"objective\" : \"regression\",\n",
    "        \"metric\" : \"rmse\", \n",
    "        \"num_leaves\" : 100,\n",
    "        \"min_child_samples\" : 200,\n",
    "        \"learning_rate\" : 0.02,\n",
    "        \"bagging_fraction\" : 0.75,\n",
    "        \"feature_fraction\" : 0.8,\n",
    "        \"bagging_frequency\" : 12,\n",
    "        \"bagging_seed\" : 49,\n",
    "        \"verbosity\" : -1\n",
    "    }\n",
    "    \n",
    "    lgtrain = lgb.Dataset(train_X, label=train_y)\n",
    "    lgval = lgb.Dataset(val_X, label=val_y)\n",
    "    model = lgb.train(params, lgtrain, 1000, valid_sets=[lgval], early_stopping_rounds=200, verbose_eval=100)\n",
    "    \n",
    "    pred_test_y = model.predict(test_X, num_iteration=model.best_iteration)\n",
    "    pred_val_y = model.predict(val_X, num_iteration=model.best_iteration)\n",
    "    return pred_test_y, model, pred_val_y\n",
    "\n",
    "# Training the LGBM model #\n",
    "pred_test, model, pred_val = run_lgb(dev_X, dev_y, val_X, val_y, test_X)\n",
    "pred_test_visit, model_visit, pred_val_visit = run_lgb(dev_X_visit, dev_y, val_X_visit, val_y, test_X_visit)"
   ]
  },
  {
   "cell_type": "code",
   "execution_count": 7,
   "metadata": {},
   "outputs": [
    {
     "name": "stdout",
     "output_type": "stream",
     "text": [
      "Mean Squared Error Rate for LGBM (without visitTime):  1.589718721551667\n",
      "Mean Squared Error Rate for LGBM (with visitTime):  1.6396979254030228\n",
      "Mean Squared Error Rate for Guess 0:  2.0408680510291712\n"
     ]
    }
   ],
   "source": [
    "from sklearn import metrics\n",
    "# Without visitTime\n",
    "pred_val[pred_val<0] = 0\n",
    "val_pred_df = pd.DataFrame({\"fullVisitorId\":val_frame[\"fullVisitorId\"].values})\n",
    "val_pred_df[\"transactionRevenue\"] = val_frame[\"totals.transactionRevenue\"].values\n",
    "val_pred_df[\"PredictedRevenue\"] = np.expm1(pred_val)\n",
    "val_pred_df[\"Zero\"] = 0\n",
    "#print(np.sqrt(metrics.mean_squared_error(np.log1p(val_pred_df[\"transactionRevenue\"].values), np.log1p(val_pred_df[\"PredictedRevenue\"].values))))\n",
    "val_pred_df = val_pred_df.groupby(\"fullVisitorId\")[\"transactionRevenue\", \"PredictedRevenue\", \"Zero\"].sum().reset_index()\n",
    "# With visitTime\n",
    "pred_val_visit[pred_val_visit<0] = 0\n",
    "val_pred_df_visit = pd.DataFrame({\"fullVisitorId\":val_frame[\"fullVisitorId\"].values})\n",
    "val_pred_df_visit[\"transactionRevenue\"] = val_frame[\"totals.transactionRevenue\"].values\n",
    "val_pred_df_visit[\"PredictedRevenue\"] = np.expm1(pred_val_visit)\n",
    "val_pred_df_visit[\"Zero\"] = 0\n",
    "val_pred_df_visit = val_pred_df_visit.groupby(\"fullVisitorId\")[\"transactionRevenue\", \"PredictedRevenue\", \"Zero\"].sum().reset_index()\n",
    "\n",
    "\n",
    "print(\"Mean Squared Error Rate for LGBM (without visitTime): \", np.sqrt(metrics.mean_squared_error(np.log1p(val_pred_df[\"transactionRevenue\"].values), np.log1p(val_pred_df[\"PredictedRevenue\"].values))))\n",
    "print(\"Mean Squared Error Rate for LGBM (with visitTime): \", np.sqrt(metrics.mean_squared_error(np.log1p(val_pred_df_visit[\"transactionRevenue\"].values), np.log1p(val_pred_df_visit[\"PredictedRevenue\"].values))))\n",
    "print(\"Mean Squared Error Rate for Guess 0: \", np.sqrt(metrics.mean_squared_error(np.log1p(val_pred_df[\"transactionRevenue\"].values), np.log1p(val_pred_df[\"Zero\"].values))))"
   ]
  },
  {
   "cell_type": "code",
   "execution_count": 8,
   "metadata": {},
   "outputs": [],
   "source": [
    "sub_df = pd.DataFrame({\"fullVisitorId\":test_id})\n",
    "pred_test[pred_test<0] = 0\n",
    "sub_df[\"PredictedLogRevenue\"] = np.expm1(pred_test)\n",
    "sub_df = sub_df.groupby(\"fullVisitorId\")[\"PredictedLogRevenue\"].sum().reset_index()\n",
    "sub_df.columns = [\"fullVisitorId\", \"PredictedLogRevenue\"]\n",
    "sub_df[\"PredictedLogRevenue\"] = np.log1p(sub_df[\"PredictedLogRevenue\"])\n",
    "sub_df.to_csv(\"baseline_lgb.csv\", index=False)"
   ]
  },
  {
   "cell_type": "code",
   "execution_count": 9,
   "metadata": {},
   "outputs": [
    {
     "data": {
      "image/png": "[encoded data removed]",
      "text/plain": [
       "<Figure size 360x216 with 1 Axes>"
      ]
     },
     "metadata": {
      "needs_background": "light"
     },
     "output_type": "display_data"
    },
    {
     "data": {
      "image/png": "[encoded data removed]",
      "text/plain": [
       "<Figure size 360x216 with 1 Axes>"
      ]
     },
     "metadata": {
      "needs_background": "light"
     },
     "output_type": "display_data"
    }
   ],
   "source": [
    "fig, ax = plt.subplots(figsize=(5,3))\n",
    "lgb.plot_importance(model, max_num_features=5, height=0.8, ax=ax)\n",
    "ax.grid(False)\n",
    "plt.title(\"LightGBM - Top 5 Features without visitTime\", fontsize=15)\n",
    "plt.show()\n",
    "\n",
    "fig_visit, ax_visit = plt.subplots(figsize=(5,3))\n",
    "lgb.plot_importance(model_visit, max_num_features=5, height=0.9, ax=ax_visit)\n",
    "ax_visit.grid(False)\n",
    "plt.title(\"LightGBM - Top 5 Features with visitTime\", fontsize=15)\n",
    "plt.show()"
   ]
  },
  {
   "cell_type": "code",
   "execution_count": null,
   "metadata": {},
   "outputs": [],
   "source": []
  },
  {
   "cell_type": "code",
   "execution_count": 11,
   "metadata": {},
   "outputs": [],
   "source": [
    "# Setting up Random Forest Model\n",
    "from sklearn.ensemble import RandomForestRegressor\n",
    "\n",
    "def run_forest(train_X, train_y, val_X, val_y, test_X, rand=0):\n",
    "    \n",
    "    rand_forest = RandomForestRegressor(        \n",
    "        n_estimators=100,\n",
    "        max_depth=5,\n",
    "        random_state=rand)\n",
    "    rand_forest.fit(dev_X, dev_y)\n",
    "    \n",
    "    pred_test_y = rand_forest.predict(test_X)\n",
    "    pred_val_y = rand_forest.predict(val_X)\n",
    "    return pred_test_y, model, pred_val_y\n",
    "\n",
    "pred_test, model, pred_val = run_forest(dev_X, dev_y, val_X, val_y, test_X)"
   ]
  },
  {
   "cell_type": "code",
   "execution_count": 12,
   "metadata": {},
   "outputs": [
    {
     "name": "stdout",
     "output_type": "stream",
     "text": [
      "Mean Squared Error Rate for Random Forest:  1.6484809292668443\n"
     ]
    }
   ],
   "source": [
    "from sklearn import metrics\n",
    "pred_val[pred_val<0] = 0\n",
    "val_pred_df = pd.DataFrame({\"fullVisitorId\":val_frame[\"fullVisitorId\"].values})\n",
    "val_pred_df[\"transactionRevenue\"] = val_frame[\"totals.transactionRevenue\"].values\n",
    "val_pred_df[\"PredictedRevenue\"] = np.expm1(pred_val)\n",
    "#print(np.sqrt(metrics.mean_squared_error(np.log1p(val_pred_df[\"transactionRevenue\"].values), np.log1p(val_pred_df[\"PredictedRevenue\"].values))))\n",
    "val_pred_df = val_pred_df.groupby(\"fullVisitorId\")[\"transactionRevenue\", \"PredictedRevenue\"].sum().reset_index()\n",
    "print(\"Mean Squared Error Rate for Random Forest: \", np.sqrt(metrics.mean_squared_error(np.log1p(val_pred_df[\"transactionRevenue\"].values), np.log1p(val_pred_df[\"PredictedRevenue\"].values))))"
   ]
  },
  {
   "cell_type": "code",
   "execution_count": null,
   "metadata": {},
   "outputs": [],
   "source": []
  }
 ],
 "metadata": {
  "kernelspec": {
   "display_name": "Python 3",
   "language": "python",
   "name": "python3"
  },
  "language_info": {
   "codemirror_mode": {
    "name": "ipython",
    "version": 3
   },
   "file_extension": ".py",
   "mimetype": "text/x-python",
   "name": "python",
   "nbconvert_exporter": "python",
   "pygments_lexer": "ipython3",
   "version": "3.7.0"
  }
 },
 "nbformat": 4,
 "nbformat_minor": 2
}
